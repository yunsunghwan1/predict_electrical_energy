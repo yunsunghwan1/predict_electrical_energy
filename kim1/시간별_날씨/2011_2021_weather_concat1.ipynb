{
 "cells": [
  {
   "cell_type": "code",
   "execution_count": 1,
   "metadata": {},
   "outputs": [],
   "source": [
    "from matplotlib import font_manager, rc\n",
    "import matplotlib\n",
    "import matplotlib.pyplot as plt\n",
    "import seaborn as sns\n",
    "import numpy as np\n",
    "import pandas as pd"
   ]
  },
  {
   "cell_type": "code",
   "execution_count": 4,
   "metadata": {},
   "outputs": [],
   "source": [
    "# 2011~2022년까지 시간별기온강수바람습도 csv 파일 불러옴\n",
    "weather_1 = pd.read_csv('2011년시간별기온강수바람습도.csv')\n",
    "weather_2 = pd.read_csv('2012년시간별기온강수바람습도.csv')\n",
    "weather_3 = pd.read_csv('2013년시간별기온강수바람습도.csv')\n",
    "weather_4 = pd.read_csv('2014년시간별기온강수바람습도.csv')\n",
    "weather_5 = pd.read_csv('2015년시간별기온강수바람습도.csv')\n",
    "weather_6 = pd.read_csv('2016년시간별기온강수바람습도.csv')\n",
    "weather_7 = pd.read_csv('2017년시간별기온강수바람습도.csv')\n",
    "weather_8 = pd.read_csv('2018년시간별기온강수바람습도.csv')\n",
    "weather_9 = pd.read_csv('2019년시간별기온강수바람습도.csv')\n",
    "weather_10 = pd.read_csv('2020년시간별기온강수바람습도.csv')\n",
    "weather_11 = pd.read_csv('2021년시간별기온강수바람습도.csv')\n",
    "weather_12 = pd.read_csv('2022년시간별기온강수바람습도.csv')"
   ]
  },
  {
   "cell_type": "code",
   "execution_count": 5,
   "metadata": {},
   "outputs": [
    {
     "data": {
      "text/html": [
       "<div>\n",
       "<style scoped>\n",
       "    .dataframe tbody tr th:only-of-type {\n",
       "        vertical-align: middle;\n",
       "    }\n",
       "\n",
       "    .dataframe tbody tr th {\n",
       "        vertical-align: top;\n",
       "    }\n",
       "\n",
       "    .dataframe thead th {\n",
       "        text-align: right;\n",
       "    }\n",
       "</style>\n",
       "<table border=\"1\" class=\"dataframe\">\n",
       "  <thead>\n",
       "    <tr style=\"text-align: right;\">\n",
       "      <th></th>\n",
       "      <th>지점</th>\n",
       "      <th>지점명</th>\n",
       "      <th>일시</th>\n",
       "      <th>기온(°C)</th>\n",
       "      <th>강수량(mm)</th>\n",
       "      <th>풍속(m/s)</th>\n",
       "      <th>습도(%)</th>\n",
       "    </tr>\n",
       "  </thead>\n",
       "  <tbody>\n",
       "    <tr>\n",
       "      <th>0</th>\n",
       "      <td>90</td>\n",
       "      <td>속초</td>\n",
       "      <td>2011-01-01 0:00</td>\n",
       "      <td>-4.6</td>\n",
       "      <td>NaN</td>\n",
       "      <td>4.4</td>\n",
       "      <td>32.0</td>\n",
       "    </tr>\n",
       "    <tr>\n",
       "      <th>1</th>\n",
       "      <td>90</td>\n",
       "      <td>속초</td>\n",
       "      <td>2011-01-01 1:00</td>\n",
       "      <td>-5.0</td>\n",
       "      <td>NaN</td>\n",
       "      <td>3.8</td>\n",
       "      <td>43.0</td>\n",
       "    </tr>\n",
       "  </tbody>\n",
       "</table>\n",
       "</div>"
      ],
      "text/plain": [
       "   지점 지점명               일시  기온(°C)  강수량(mm)  풍속(m/s)  습도(%)\n",
       "0  90  속초  2011-01-01 0:00    -4.6      NaN      4.4   32.0\n",
       "1  90  속초  2011-01-01 1:00    -5.0      NaN      3.8   43.0"
      ]
     },
     "execution_count": 5,
     "metadata": {},
     "output_type": "execute_result"
    }
   ],
   "source": [
    "# weather_1 데이터의 상위 5개의 행 출력\n",
    "weather_1.head(2)"
   ]
  },
  {
   "cell_type": "code",
   "execution_count": 14,
   "metadata": {},
   "outputs": [],
   "source": [
    "# weather1~12까지의 데이터프레임을 weather_df로 이어 붙임\n",
    "weather_df = pd.concat([weather_1,weather_2,weather_3,weather_4,weather_5,weather_6,weather_7,weather_8,weather_9,weather_10,weather_11,weather_12])"
   ]
  },
  {
   "cell_type": "code",
   "execution_count": 16,
   "metadata": {},
   "outputs": [],
   "source": [
    "# weather_df를 csv 형식으로 변환함, cp949로 인코딩함\n",
    "weather_df.to_csv('weather.csv')"
   ]
  },
  {
   "cell_type": "code",
   "execution_count": null,
   "metadata": {},
   "outputs": [],
   "source": []
  }
 ],
 "metadata": {
  "kernelspec": {
   "display_name": "base",
   "language": "python",
   "name": "python3"
  },
  "language_info": {
   "codemirror_mode": {
    "name": "ipython",
    "version": 3
   },
   "file_extension": ".py",
   "mimetype": "text/x-python",
   "name": "python",
   "nbconvert_exporter": "python",
   "pygments_lexer": "ipython3",
   "version": "3.9.13"
  },
  "orig_nbformat": 4
 },
 "nbformat": 4,
 "nbformat_minor": 2
}
