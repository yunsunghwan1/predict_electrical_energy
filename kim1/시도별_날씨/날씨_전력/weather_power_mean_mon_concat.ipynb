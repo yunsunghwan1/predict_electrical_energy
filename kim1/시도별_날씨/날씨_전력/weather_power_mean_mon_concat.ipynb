{
 "cells": [
  {
   "cell_type": "code",
   "execution_count": 5,
   "metadata": {},
   "outputs": [],
   "source": [
    "from matplotlib import font_manager, rc\n",
    "import matplotlib\n",
    "import matplotlib.pyplot as plt\n",
    "import seaborn as sns\n",
    "import numpy as np\n",
    "import pandas as pd"
   ]
  },
  {
   "cell_type": "code",
   "execution_count": 6,
   "metadata": {},
   "outputs": [],
   "source": [
    "# 2012~2022년까지 weather_data_mean_month csv 파일 불러옴\n",
    "weather_mean_mon_12_df = pd.read_csv('날씨평균/weather_data_mean_month_2012.csv',encoding='cp949')\n",
    "weather_mean_mon_13_df = pd.read_csv('날씨평균/weather_data_mean_month_2013.csv',encoding='cp949')\n",
    "weather_mean_mon_14_df = pd.read_csv('날씨평균/weather_data_mean_month_2014.csv',encoding='cp949')\n",
    "weather_mean_mon_15_df = pd.read_csv('날씨평균/weather_data_mean_month_2015.csv',encoding='cp949')\n",
    "weather_mean_mon_16_df = pd.read_csv('날씨평균/weather_data_mean_month_2016.csv',encoding='cp949')\n",
    "weather_mean_mon_17_df = pd.read_csv('날씨평균/weather_data_mean_month_2017.csv',encoding='cp949')\n",
    "weather_mean_mon_18_df = pd.read_csv('날씨평균/weather_data_mean_month_2018.csv',encoding='cp949')\n",
    "weather_mean_mon_19_df = pd.read_csv('날씨평균/weather_data_mean_month_2019.csv',encoding='cp949')\n",
    "weather_mean_mon_20_df = pd.read_csv('날씨평균/weather_data_mean_month_2020.csv',encoding='cp949')\n",
    "weather_mean_mon_21_df = pd.read_csv('날씨평균/weather_data_mean_month_2021.csv',encoding='cp949')\n",
    "weather_mean_mon_22_df = pd.read_csv('날씨평균/weather_data_mean_month_2022.csv',encoding='cp949')"
   ]
  },
  {
   "cell_type": "code",
   "execution_count": 7,
   "metadata": {},
   "outputs": [],
   "source": [
    "# weather_mean_mon12~22_df까지의 데이터프레임을 weather_mean_mon_df로 이어 붙임\n",
    "weather_mean_mon_df = pd.concat([weather_mean_mon_12_df,weather_mean_mon_13_df,weather_mean_mon_14_df,weather_mean_mon_15_df,weather_mean_mon_16_df,weather_mean_mon_17_df,weather_mean_mon_18_df,weather_mean_mon_19_df,weather_mean_mon_20_df,weather_mean_mon_21_df,weather_mean_mon_22_df])"
   ]
  },
  {
   "cell_type": "code",
   "execution_count": 4,
   "metadata": {},
   "outputs": [],
   "source": [
    "# weather_mean_mon_df를 csv 형식으로 변환함, cp949로 인코딩함\n",
    "weather_mean_mon_df.to_csv('weather_mean_mon.csv',encoding='cp949')"
   ]
  },
  {
   "cell_type": "code",
   "execution_count": 15,
   "metadata": {},
   "outputs": [],
   "source": [
    "# 2012~2022년까지 power_demand_mean_month csv 파일 불러옴\n",
    "power_mean_mon_2012 = pd.read_csv('전력평균/power_demand_mean_month_2012.csv',encoding='cp949')\n",
    "power_mean_mon_2013 = pd.read_csv('전력평균/power_demand_mean_month_2013.csv',encoding='cp949')\n",
    "power_mean_mon_2014 = pd.read_csv('전력평균/power_demand_mean_month_2014.csv',encoding='cp949')\n",
    "power_mean_mon_2015 = pd.read_csv('전력평균/power_demand_mean_month_2015.csv',encoding='cp949')\n",
    "power_mean_mon_2016 = pd.read_csv('전력평균/power_demand_mean_month_2016.csv',encoding='cp949')\n",
    "power_mean_mon_2017 = pd.read_csv('전력평균/power_demand_mean_month_2017.csv',encoding='cp949')\n",
    "power_mean_mon_2018 = pd.read_csv('전력평균/power_demand_mean_month_2018.csv',encoding='cp949')\n",
    "power_mean_mon_2019 = pd.read_csv('전력평균/power_demand_mean_month_2019.csv',encoding='cp949')\n",
    "power_mean_mon_2020 = pd.read_csv('전력평균/power_demand_mean_month_2020.csv',encoding='cp949')\n",
    "power_mean_mon_2021 = pd.read_csv('전력평균/power_demand_mean_month_2021.csv',encoding='cp949')\n",
    "power_mean_mon_2022 = pd.read_csv('전력평균/power_demand_mean_month_2022.csv',encoding='cp949')"
   ]
  },
  {
   "cell_type": "code",
   "execution_count": 16,
   "metadata": {},
   "outputs": [],
   "source": [
    "# power_mean_mon12~22_df까지의 데이터프레임을 weather_mean_mon_df로 이어 붙임\n",
    "power_mean_mon_df = pd.concat([power_mean_mon_2012,power_mean_mon_2013,power_mean_mon_2014,power_mean_mon_2015,power_mean_mon_2016,power_mean_mon_2017,power_mean_mon_2018,power_mean_mon_2019,power_mean_mon_2020,power_mean_mon_2021,power_mean_mon_2022])"
   ]
  },
  {
   "cell_type": "code",
   "execution_count": 17,
   "metadata": {},
   "outputs": [],
   "source": [
    "# power_mean_mon을 csv 형식으로 변환함, cp949로 인코딩함\n",
    "power_mean_mon_df.to_csv('power_mean_mon.csv',encoding='cp949')"
   ]
  },
  {
   "cell_type": "code",
   "execution_count": null,
   "metadata": {},
   "outputs": [],
   "source": []
  }
 ],
 "metadata": {
  "kernelspec": {
   "display_name": "base",
   "language": "python",
   "name": "python3"
  },
  "language_info": {
   "codemirror_mode": {
    "name": "ipython",
    "version": 3
   },
   "file_extension": ".py",
   "mimetype": "text/x-python",
   "name": "python",
   "nbconvert_exporter": "python",
   "pygments_lexer": "ipython3",
   "version": "3.9.13"
  },
  "orig_nbformat": 4
 },
 "nbformat": 4,
 "nbformat_minor": 2
}
