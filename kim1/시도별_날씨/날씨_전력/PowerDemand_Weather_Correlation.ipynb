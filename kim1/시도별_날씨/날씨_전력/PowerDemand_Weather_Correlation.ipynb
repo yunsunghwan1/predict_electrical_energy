{
 "cells": [
  {
   "cell_type": "code",
   "execution_count": null,
   "metadata": {},
   "outputs": [],
   "source": [
    "# 전력 소비량과 날씨의 상관관계"
   ]
  },
  {
   "cell_type": "code",
   "execution_count": 24,
   "metadata": {},
   "outputs": [],
   "source": [
    "from matplotlib import font_manager, rc\n",
    "import matplotlib\n",
    "import matplotlib.pyplot as plt\n",
    "import seaborn as sns\n",
    "import pandas as pd\n",
    "import numpy as np\n",
    "import platform\n",
    "import sqlite3\n",
    "\n",
    "matplotlib.rcParams['axes.unicode_minus'] = False"
   ]
  },
  {
   "cell_type": "code",
   "execution_count": 25,
   "metadata": {},
   "outputs": [],
   "source": [
    "weather_mean_mon_12_df = pd.read_csv('날씨평균/weather_data_mean_month_2012.csv',encoding='cp949')\n",
    "weather_mean_mon_13_df = pd.read_csv('날씨평균/weather_data_mean_month_2013.csv',encoding='cp949')\n",
    "weather_mean_mon_14_df = pd.read_csv('날씨평균/weather_data_mean_month_2014.csv',encoding='cp949')\n",
    "weather_mean_mon_15_df = pd.read_csv('날씨평균/weather_data_mean_month_2015.csv',encoding='cp949')\n",
    "weather_mean_mon_16_df = pd.read_csv('날씨평균/weather_data_mean_month_2016.csv',encoding='cp949')\n",
    "weather_mean_mon_17_df = pd.read_csv('날씨평균/weather_data_mean_month_2017.csv',encoding='cp949')\n",
    "weather_mean_mon_18_df = pd.read_csv('날씨평균/weather_data_mean_month_2018.csv',encoding='cp949')\n",
    "weather_mean_mon_19_df = pd.read_csv('날씨평균/weather_data_mean_month_2019.csv',encoding='cp949')\n",
    "weather_mean_mon_20_df = pd.read_csv('날씨평균/weather_data_mean_month_2020.csv',encoding='cp949')\n",
    "weather_mean_mon_21_df = pd.read_csv('날씨평균/weather_data_mean_month_2021.csv',encoding='cp949')\n",
    "weather_mean_mon_22_df = pd.read_csv('날씨평균/weather_data_mean_month_2022.csv',encoding='cp949')"
   ]
  },
  {
   "cell_type": "code",
   "execution_count": 26,
   "metadata": {},
   "outputs": [],
   "source": [
    "power_mean_mon_2012 = pd.read_csv('전력평균/power_demand_mean_month_2012.csv',encoding='cp949')\n",
    "power_mean_mon_2013 = pd.read_csv('전력평균/power_demand_mean_month_2013.csv',encoding='cp949')\n",
    "power_mean_mon_2014 = pd.read_csv('전력평균/power_demand_mean_month_2014.csv',encoding='cp949')\n",
    "power_mean_mon_2015 = pd.read_csv('전력평균/power_demand_mean_month_2015.csv',encoding='cp949')\n",
    "power_mean_mon_2016 = pd.read_csv('전력평균/power_demand_mean_month_2016.csv',encoding='cp949')\n",
    "power_mean_mon_2017 = pd.read_csv('전력평균/power_demand_mean_month_2017.csv',encoding='cp949')\n",
    "power_mean_mon_2018 = pd.read_csv('전력평균/power_demand_mean_month_2018.csv',encoding='cp949')\n",
    "power_mean_mon_2019 = pd.read_csv('전력평균/power_demand_mean_month_2019.csv',encoding='cp949')\n",
    "power_mean_mon_2020 = pd.read_csv('전력평균/power_demand_mean_month_2020.csv',encoding='cp949')\n",
    "power_mean_mon_2021 = pd.read_csv('전력평균/power_demand_mean_month_2021.csv',encoding='cp949')\n",
    "power_mean_mon_2022 = pd.read_csv('전력평균/power_demand_mean_month_2022.csv',encoding='cp949')"
   ]
  },
  {
   "cell_type": "code",
   "execution_count": null,
   "metadata": {},
   "outputs": [],
   "source": []
  },
  {
   "cell_type": "code",
   "execution_count": null,
   "metadata": {},
   "outputs": [],
   "source": []
  }
 ],
 "metadata": {
  "kernelspec": {
   "display_name": "base",
   "language": "python",
   "name": "python3"
  },
  "language_info": {
   "codemirror_mode": {
    "name": "ipython",
    "version": 3
   },
   "file_extension": ".py",
   "mimetype": "text/x-python",
   "name": "python",
   "nbconvert_exporter": "python",
   "pygments_lexer": "ipython3",
   "version": "3.9.13"
  },
  "orig_nbformat": 4
 },
 "nbformat": 4,
 "nbformat_minor": 2
}
