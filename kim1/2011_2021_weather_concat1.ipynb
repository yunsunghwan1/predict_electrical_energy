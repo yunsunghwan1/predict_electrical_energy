{
 "cells": [
  {
   "cell_type": "code",
   "execution_count": 6,
   "metadata": {},
   "outputs": [],
   "source": [
    "from matplotlib import font_manager, rc\n",
    "import matplotlib\n",
    "import matplotlib.pyplot as plt\n",
    "import seaborn as sns\n",
    "import numpy as np\n",
    "import pandas as pd"
   ]
  },
  {
   "cell_type": "code",
   "execution_count": 12,
   "metadata": {},
   "outputs": [],
   "source": [
    "weather_1 = pd.read_csv('11_21_년도별시간별날씨/2011년시간별기온강수바람습도.csv')\n",
    "weather_2 = pd.read_csv('11_21_년도별시간별날씨/2012년시간별기온강수바람습도.csv')\n",
    "weather_3 = pd.read_csv('11_21_년도별시간별날씨/2013년시간별기온강수바람습도.csv')\n",
    "weather_4 = pd.read_csv('11_21_년도별시간별날씨/2014년시간별기온강수바람습도.csv')\n",
    "weather_5 = pd.read_csv('11_21_년도별시간별날씨/2015년시간별기온강수바람습도.csv')\n",
    "weather_6 = pd.read_csv('11_21_년도별시간별날씨/2016년시간별기온강수바람습도.csv')\n",
    "weather_7 = pd.read_csv('11_21_년도별시간별날씨/2017년시간별기온강수바람습도.csv')\n",
    "weather_8 = pd.read_csv('11_21_년도별시간별날씨/2018년시간별기온강수바람습도.csv')\n",
    "weather_9 = pd.read_csv('11_21_년도별시간별날씨/2019년시간별기온강수바람습도.csv')\n",
    "weather_10 = pd.read_csv('11_21_년도별시간별날씨/2020년시간별기온강수바람습도.csv')\n",
    "weather_11 = pd.read_csv('11_21_년도별시간별날씨/2021년시간별기온강수바람습도.csv')\n",
    "weather_12 = pd.read_csv('11_21_년도별시간별날씨/2022년시간별기온강수바람습도.csv')"
   ]
  },
  {
   "cell_type": "code",
   "execution_count": 13,
   "metadata": {},
   "outputs": [
    {
     "data": {
      "text/html": [
       "<div>\n",
       "<style scoped>\n",
       "    .dataframe tbody tr th:only-of-type {\n",
       "        vertical-align: middle;\n",
       "    }\n",
       "\n",
       "    .dataframe tbody tr th {\n",
       "        vertical-align: top;\n",
       "    }\n",
       "\n",
       "    .dataframe thead th {\n",
       "        text-align: right;\n",
       "    }\n",
       "</style>\n",
       "<table border=\"1\" class=\"dataframe\">\n",
       "  <thead>\n",
       "    <tr style=\"text-align: right;\">\n",
       "      <th></th>\n",
       "      <th>지점</th>\n",
       "      <th>지점명</th>\n",
       "      <th>일시</th>\n",
       "      <th>기온(°C)</th>\n",
       "      <th>강수량(mm)</th>\n",
       "      <th>풍속(m/s)</th>\n",
       "      <th>습도(%)</th>\n",
       "    </tr>\n",
       "  </thead>\n",
       "  <tbody>\n",
       "    <tr>\n",
       "      <th>0</th>\n",
       "      <td>90</td>\n",
       "      <td>속초</td>\n",
       "      <td>2011-01-01 0:00</td>\n",
       "      <td>-4.6</td>\n",
       "      <td>NaN</td>\n",
       "      <td>4.4</td>\n",
       "      <td>32.0</td>\n",
       "    </tr>\n",
       "    <tr>\n",
       "      <th>1</th>\n",
       "      <td>90</td>\n",
       "      <td>속초</td>\n",
       "      <td>2011-01-01 1:00</td>\n",
       "      <td>-5.0</td>\n",
       "      <td>NaN</td>\n",
       "      <td>3.8</td>\n",
       "      <td>43.0</td>\n",
       "    </tr>\n",
       "  </tbody>\n",
       "</table>\n",
       "</div>"
      ],
      "text/plain": [
       "   지점 지점명               일시  기온(°C)  강수량(mm)  풍속(m/s)  습도(%)\n",
       "0  90  속초  2011-01-01 0:00    -4.6      NaN      4.4   32.0\n",
       "1  90  속초  2011-01-01 1:00    -5.0      NaN      3.8   43.0"
      ]
     },
     "execution_count": 13,
     "metadata": {},
     "output_type": "execute_result"
    }
   ],
   "source": [
    "weather_1.head(2)"
   ]
  },
  {
   "cell_type": "code",
   "execution_count": 14,
   "metadata": {},
   "outputs": [],
   "source": [
    "weather_df = pd.concat([weather_1,weather_2,weather_3,weather_4,weather_5,weather_6,weather_7,weather_8,weather_9,weather_10,weather_11,weather_12])"
   ]
  },
  {
   "cell_type": "code",
   "execution_count": 15,
   "metadata": {},
   "outputs": [],
   "source": [
    "# weather_df.sort_values('일시',inplace=True)"
   ]
  },
  {
   "cell_type": "code",
   "execution_count": 16,
   "metadata": {},
   "outputs": [],
   "source": [
    "weather_df.to_csv('weather.csv')"
   ]
  },
  {
   "cell_type": "code",
   "execution_count": null,
   "metadata": {},
   "outputs": [],
   "source": []
  }
 ],
 "metadata": {
  "kernelspec": {
   "display_name": "base",
   "language": "python",
   "name": "python3"
  },
  "language_info": {
   "codemirror_mode": {
    "name": "ipython",
    "version": 3
   },
   "file_extension": ".py",
   "mimetype": "text/x-python",
   "name": "python",
   "nbconvert_exporter": "python",
   "pygments_lexer": "ipython3",
   "version": "3.9.13"
  },
  "orig_nbformat": 4
 },
 "nbformat": 4,
 "nbformat_minor": 2
}
