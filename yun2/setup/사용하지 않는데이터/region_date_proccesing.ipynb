{
 "cells": [
  {
   "cell_type": "code",
   "execution_count": 1,
   "metadata": {},
   "outputs": [
    {
     "data": {
      "text/plain": [
       "False"
      ]
     },
     "execution_count": 1,
     "metadata": {},
     "output_type": "execute_result"
    }
   ],
   "source": [
    "# 필요 라이브러리 로드\n",
    "from matplotlib import font_manager, rc\n",
    "import matplotlib\n",
    "import matplotlib.pyplot as plt\n",
    "import seaborn as sns\n",
    "import numpy as np\n",
    "import pandas as pd\n",
    "import platform\n",
    "\n",
    "#그래프에서 마이너스 기호가 표시되게 하는 설정입니다.\n",
    "plt.rcParams['axes.unicode_minus'] == False"
   ]
  },
  {
   "cell_type": "code",
   "execution_count": 19,
   "metadata": {},
   "outputs": [],
   "source": [
    "\n",
    "path1 = 'data/광주광역시_가구평균_월사용량/가구 평균 월별 전력사용량_2021.01~06.xls'\n",
    "path2 = 'data/광주광역시_가구평균_월사용량/가구 평균 월별 전력사용량_2021.07~12.xls'\n",
    "path3 = 'data/광주광역시_가구평균_월사용량/가구 평균 월별 전력사용량_2022.01~06.xls'\n",
    "path4 = 'data/광주광역시_가구평균_월사용량/가구 평균 월별 전력사용량_2022.07~12.xls'\n",
    "power_household_average_2021_01 = pd.read_excel(path1)\n",
    "power_household_average_2021_07 = pd.read_excel(path2)\n",
    "power_household_average_2022_01 = pd.read_excel(path3)\n",
    "power_household_average_2022_07 = pd.read_excel(path4)\n"
   ]
  },
  {
   "cell_type": "code",
   "execution_count": 20,
   "metadata": {},
   "outputs": [
    {
     "data": {
      "text/html": [
       "<div>\n",
       "<style scoped>\n",
       "    .dataframe tbody tr th:only-of-type {\n",
       "        vertical-align: middle;\n",
       "    }\n",
       "\n",
       "    .dataframe tbody tr th {\n",
       "        vertical-align: top;\n",
       "    }\n",
       "\n",
       "    .dataframe thead th {\n",
       "        text-align: right;\n",
       "    }\n",
       "</style>\n",
       "<table border=\"1\" class=\"dataframe\">\n",
       "  <thead>\n",
       "    <tr style=\"text-align: right;\">\n",
       "      <th></th>\n",
       "      <th>가구 평균 월별 전력사용량 ( 20230321 현재 )</th>\n",
       "      <th>Unnamed: 1</th>\n",
       "      <th>Unnamed: 2</th>\n",
       "      <th>Unnamed: 3</th>\n",
       "      <th>Unnamed: 4</th>\n",
       "      <th>Unnamed: 5</th>\n",
       "    </tr>\n",
       "  </thead>\n",
       "  <tbody>\n",
       "    <tr>\n",
       "      <th>0</th>\n",
       "      <td>시도 : 광주광역시, 시군구 : 전체(시 / 군 / 구)</td>\n",
       "      <td>NaN</td>\n",
       "      <td>NaN</td>\n",
       "      <td>NaN</td>\n",
       "      <td>NaN</td>\n",
       "      <td>NaN</td>\n",
       "    </tr>\n",
       "    <tr>\n",
       "      <th>1</th>\n",
       "      <td>기간 : 2021년 01 월 ~ 2021년 06월</td>\n",
       "      <td>NaN</td>\n",
       "      <td>NaN</td>\n",
       "      <td>NaN</td>\n",
       "      <td>NaN</td>\n",
       "      <td>NaN</td>\n",
       "    </tr>\n",
       "    <tr>\n",
       "      <th>2</th>\n",
       "      <td>년월</td>\n",
       "      <td>시도</td>\n",
       "      <td>시군구</td>\n",
       "      <td>대상가구수(호)</td>\n",
       "      <td>가구당 평균 전력 사용량(kWh)</td>\n",
       "      <td>가구당 평균 전기요금(원)</td>\n",
       "    </tr>\n",
       "    <tr>\n",
       "      <th>3</th>\n",
       "      <td>202101</td>\n",
       "      <td>광주광역시</td>\n",
       "      <td>전체</td>\n",
       "      <td>758,548</td>\n",
       "      <td>259</td>\n",
       "      <td>28,742</td>\n",
       "    </tr>\n",
       "    <tr>\n",
       "      <th>4</th>\n",
       "      <td>202102</td>\n",
       "      <td>광주광역시</td>\n",
       "      <td>전체</td>\n",
       "      <td>760,593</td>\n",
       "      <td>251</td>\n",
       "      <td>27,180</td>\n",
       "    </tr>\n",
       "    <tr>\n",
       "      <th>5</th>\n",
       "      <td>202103</td>\n",
       "      <td>광주광역시</td>\n",
       "      <td>전체</td>\n",
       "      <td>760,166</td>\n",
       "      <td>217</td>\n",
       "      <td>21,295</td>\n",
       "    </tr>\n",
       "    <tr>\n",
       "      <th>6</th>\n",
       "      <td>202104</td>\n",
       "      <td>광주광역시</td>\n",
       "      <td>전체</td>\n",
       "      <td>761,634</td>\n",
       "      <td>224</td>\n",
       "      <td>22,602</td>\n",
       "    </tr>\n",
       "    <tr>\n",
       "      <th>7</th>\n",
       "      <td>202105</td>\n",
       "      <td>광주광역시</td>\n",
       "      <td>전체</td>\n",
       "      <td>763,368</td>\n",
       "      <td>212</td>\n",
       "      <td>20,515</td>\n",
       "    </tr>\n",
       "    <tr>\n",
       "      <th>8</th>\n",
       "      <td>202106</td>\n",
       "      <td>광주광역시</td>\n",
       "      <td>전체</td>\n",
       "      <td>763,947</td>\n",
       "      <td>221</td>\n",
       "      <td>21,817</td>\n",
       "    </tr>\n",
       "    <tr>\n",
       "      <th>9</th>\n",
       "      <td>NaN</td>\n",
       "      <td>NaN</td>\n",
       "      <td>NaN</td>\n",
       "      <td>NaN</td>\n",
       "      <td>NaN</td>\n",
       "      <td>NaN</td>\n",
       "    </tr>\n",
       "    <tr>\n",
       "      <th>10</th>\n",
       "      <td>년월</td>\n",
       "      <td>시도</td>\n",
       "      <td>시군구</td>\n",
       "      <td>대상가구수(호)</td>\n",
       "      <td>가구당 평균 전력 사용량(kWh)</td>\n",
       "      <td>가구당 평균 전기요금(원)</td>\n",
       "    </tr>\n",
       "    <tr>\n",
       "      <th>11</th>\n",
       "      <td>202101</td>\n",
       "      <td>광주광역시</td>\n",
       "      <td>광산구</td>\n",
       "      <td>199,915</td>\n",
       "      <td>267</td>\n",
       "      <td>29,074</td>\n",
       "    </tr>\n",
       "  </tbody>\n",
       "</table>\n",
       "</div>"
      ],
      "text/plain": [
       "     가구 평균 월별 전력사용량 ( 20230321 현재 ) Unnamed: 1 Unnamed: 2 Unnamed: 3  \\\n",
       "0   시도 : 광주광역시, 시군구 : 전체(시 / 군 / 구)        NaN        NaN        NaN   \n",
       "1       기간 : 2021년 01 월 ~ 2021년 06월        NaN        NaN        NaN   \n",
       "2                                년월         시도        시군구   대상가구수(호)   \n",
       "3                            202101      광주광역시         전체   758,548    \n",
       "4                            202102      광주광역시         전체   760,593    \n",
       "5                            202103      광주광역시         전체   760,166    \n",
       "6                            202104      광주광역시         전체   761,634    \n",
       "7                            202105      광주광역시         전체   763,368    \n",
       "8                            202106      광주광역시         전체   763,947    \n",
       "9                               NaN        NaN        NaN        NaN   \n",
       "10                               년월         시도        시군구   대상가구수(호)   \n",
       "11                           202101      광주광역시        광산구   199,915    \n",
       "\n",
       "            Unnamed: 4      Unnamed: 5  \n",
       "0                  NaN             NaN  \n",
       "1                  NaN             NaN  \n",
       "2   가구당 평균 전력 사용량(kWh)  가구당 평균 전기요금(원)  \n",
       "3                 259          28,742   \n",
       "4                 251          27,180   \n",
       "5                 217          21,295   \n",
       "6                 224          22,602   \n",
       "7                 212          20,515   \n",
       "8                 221          21,817   \n",
       "9                  NaN             NaN  \n",
       "10  가구당 평균 전력 사용량(kWh)  가구당 평균 전기요금(원)  \n",
       "11                267          29,074   "
      ]
     },
     "execution_count": 20,
     "metadata": {},
     "output_type": "execute_result"
    }
   ],
   "source": [
    "power_household_average_2021_01.head(12)"
   ]
  },
  {
   "cell_type": "code",
   "execution_count": 21,
   "metadata": {},
   "outputs": [],
   "source": [
    "power_household_average_2021_01.drop(labels=range(0, 11),axis=0, inplace=True)\n",
    "power_household_average_2021_07.drop(labels=range(0, 11),axis=0, inplace=True)\n",
    "power_household_average_2022_01.drop(labels=range(0, 11),axis=0, inplace=True)\n",
    "power_household_average_2022_07.drop(labels=range(0, 11),axis=0, inplace=True)"
   ]
  },
  {
   "cell_type": "code",
   "execution_count": 22,
   "metadata": {},
   "outputs": [],
   "source": [
    "power_household_entire = pd.concat([power_household_average_2021_01,\n",
    "                                    power_household_average_2021_07,\n",
    "                                    power_household_average_2022_01,\n",
    "                                    power_household_average_2022_07])"
   ]
  },
  {
   "cell_type": "code",
   "execution_count": 24,
   "metadata": {},
   "outputs": [],
   "source": [
    "power_household_entire.reset_index(drop=True, inplace=True)"
   ]
  },
  {
   "cell_type": "code",
   "execution_count": 25,
   "metadata": {},
   "outputs": [],
   "source": [
    "power_household_entire.rename(columns={'가구 평균 월별 전력사용량 ( 20230321 현재 )':'년도',\n",
    "                                                       'Unnamed: 1': \"시도\",\n",
    "                                                       'Unnamed: 2': \"시군구\",\n",
    "                                                       'Unnamed: 3': \"대상가구수(호)\",\n",
    "                                                       'Unnamed: 4': \"가구당 평균 전력 사용량(kWh)\",\n",
    "                                                       'Unnamed: 5': \"가구당 평균 전기요금(원)\"}, inplace=True)"
   ]
  },
  {
   "cell_type": "code",
   "execution_count": 26,
   "metadata": {},
   "outputs": [
    {
     "data": {
      "text/html": [
       "<div>\n",
       "<style scoped>\n",
       "    .dataframe tbody tr th:only-of-type {\n",
       "        vertical-align: middle;\n",
       "    }\n",
       "\n",
       "    .dataframe tbody tr th {\n",
       "        vertical-align: top;\n",
       "    }\n",
       "\n",
       "    .dataframe thead th {\n",
       "        text-align: right;\n",
       "    }\n",
       "</style>\n",
       "<table border=\"1\" class=\"dataframe\">\n",
       "  <thead>\n",
       "    <tr style=\"text-align: right;\">\n",
       "      <th></th>\n",
       "      <th>년도</th>\n",
       "      <th>시도</th>\n",
       "      <th>시군구</th>\n",
       "      <th>대상가구수(호)</th>\n",
       "      <th>가구당 평균 전력 사용량(kWh)</th>\n",
       "      <th>가구당 평균 전기요금(원)</th>\n",
       "    </tr>\n",
       "  </thead>\n",
       "  <tbody>\n",
       "    <tr>\n",
       "      <th>0</th>\n",
       "      <td>202101</td>\n",
       "      <td>광주광역시</td>\n",
       "      <td>광산구</td>\n",
       "      <td>199,915</td>\n",
       "      <td>267</td>\n",
       "      <td>29,074</td>\n",
       "    </tr>\n",
       "    <tr>\n",
       "      <th>1</th>\n",
       "      <td>202101</td>\n",
       "      <td>광주광역시</td>\n",
       "      <td>남구</td>\n",
       "      <td>109,024</td>\n",
       "      <td>270</td>\n",
       "      <td>31,017</td>\n",
       "    </tr>\n",
       "    <tr>\n",
       "      <th>2</th>\n",
       "      <td>202101</td>\n",
       "      <td>광주광역시</td>\n",
       "      <td>동구</td>\n",
       "      <td>65,227</td>\n",
       "      <td>233</td>\n",
       "      <td>27,289</td>\n",
       "    </tr>\n",
       "  </tbody>\n",
       "</table>\n",
       "</div>"
      ],
      "text/plain": [
       "       년도     시도  시군구  대상가구수(호) 가구당 평균 전력 사용량(kWh) 가구당 평균 전기요금(원)\n",
       "0  202101  광주광역시  광산구  199,915                267         29,074 \n",
       "1  202101  광주광역시   남구  109,024                270         31,017 \n",
       "2  202101  광주광역시   동구   65,227                233         27,289 "
      ]
     },
     "execution_count": 26,
     "metadata": {},
     "output_type": "execute_result"
    }
   ],
   "source": [
    "power_household_entire.head(3)"
   ]
  },
  {
   "cell_type": "code",
   "execution_count": 28,
   "metadata": {},
   "outputs": [],
   "source": [
    "power_household_entire.sort_values('년도',inplace=True)"
   ]
  },
  {
   "cell_type": "code",
   "execution_count": 94,
   "metadata": {},
   "outputs": [],
   "source": [
    "power_household_entire.to_csv('광주_시군구_월별_가정평균_전력소비량.csv', encoding='cp949')"
   ]
  },
  {
   "cell_type": "code",
   "execution_count": null,
   "metadata": {},
   "outputs": [],
   "source": []
  }
 ],
 "metadata": {
  "kernelspec": {
   "display_name": "base",
   "language": "python",
   "name": "python3"
  },
  "language_info": {
   "codemirror_mode": {
    "name": "ipython",
    "version": 3
   },
   "file_extension": ".py",
   "mimetype": "text/x-python",
   "name": "python",
   "nbconvert_exporter": "python",
   "pygments_lexer": "ipython3",
   "version": "3.9.13"
  },
  "orig_nbformat": 4
 },
 "nbformat": 4,
 "nbformat_minor": 2
}
