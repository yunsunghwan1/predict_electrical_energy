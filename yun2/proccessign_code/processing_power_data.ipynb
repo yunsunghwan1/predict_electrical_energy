{
 "cells": [
  {
   "cell_type": "code",
   "execution_count": 1,
   "metadata": {},
   "outputs": [
    {
     "name": "stderr",
     "output_type": "stream",
     "text": [
      "c:\\Users\\ban05\\anaconda3\\envs\\machine_learning\\lib\\site-packages\\tqdm\\auto.py:21: TqdmWarning: IProgress not found. Please update jupyter and ipywidgets. See https://ipywidgets.readthedocs.io/en/stable/user_install.html\n",
      "  from .autonotebook import tqdm as notebook_tqdm\n"
     ]
    },
    {
     "data": {
      "text/plain": [
       "False"
      ]
     },
     "execution_count": 1,
     "metadata": {},
     "output_type": "execute_result"
    }
   ],
   "source": [
    "# 필요 라이브러리 로드\n",
    "from matplotlib import font_manager, rc\n",
    "import matplotlib\n",
    "import matplotlib.pyplot as plt\n",
    "import seaborn as sns\n",
    "import numpy as np\n",
    "import sqlite3,os\n",
    "import pandas as pd\n",
    "import platform\n",
    "from autogluon.tabular import TabularDataset, TabularPredictor\n",
    "from prophet import Prophet\n",
    "from sklearn.model_selection import train_test_split\n",
    "from sklearn.metrics import mean_absolute_error, mean_absolute_percentage_error\n",
    "if platform.system() == 'Windows':\n",
    "# 윈도우인 경우 맑은 고딕 폰트 이용\n",
    "    font_name = font_manager.FontProperties(fname=\"c:/Windows/Fonts/malgun.ttf\"\n",
    "                                           ).get_name()\n",
    "    rc('font', family=font_name)\n",
    "else:    \n",
    "# Mac 인 경우\n",
    "    rc('font', family='AppleGothic')\n",
    "\n",
    "#그래프에서 마이너스 기호가 표시되게 하는 설정입니다.\n",
    "plt.rcParams['axes.unicode_minus'] == False"
   ]
  },
  {
   "cell_type": "code",
   "execution_count": 2,
   "metadata": {},
   "outputs": [],
   "source": [
    "df_power = pd.read_csv('../data/한국전력거래소_지역별 시간별 태양광 발전량_20211231.csv', encoding= 'cp949')\n",
    "df_power.fillna(value = 0, inplace=True)"
   ]
  },
  {
   "cell_type": "code",
   "execution_count": 3,
   "metadata": {},
   "outputs": [
    {
     "data": {
      "text/plain": [
       "Index(['거래일자', '거래시간', '지역', '발전량 '], dtype='object')"
      ]
     },
     "execution_count": 3,
     "metadata": {},
     "output_type": "execute_result"
    }
   ],
   "source": [
    "df_power.columns"
   ]
  },
  {
   "cell_type": "code",
   "execution_count": 4,
   "metadata": {},
   "outputs": [
    {
     "data": {
      "text/html": [
       "<div>\n",
       "<style scoped>\n",
       "    .dataframe tbody tr th:only-of-type {\n",
       "        vertical-align: middle;\n",
       "    }\n",
       "\n",
       "    .dataframe tbody tr th {\n",
       "        vertical-align: top;\n",
       "    }\n",
       "\n",
       "    .dataframe thead th {\n",
       "        text-align: right;\n",
       "    }\n",
       "</style>\n",
       "<table border=\"1\" class=\"dataframe\">\n",
       "  <thead>\n",
       "    <tr style=\"text-align: right;\">\n",
       "      <th></th>\n",
       "      <th>거래일자</th>\n",
       "      <th>거래시간</th>\n",
       "      <th>지역</th>\n",
       "      <th>발전량</th>\n",
       "    </tr>\n",
       "  </thead>\n",
       "  <tbody>\n",
       "    <tr>\n",
       "      <th>0</th>\n",
       "      <td>2018-01-01</td>\n",
       "      <td>1</td>\n",
       "      <td>강원도</td>\n",
       "      <td>13.68</td>\n",
       "    </tr>\n",
       "    <tr>\n",
       "      <th>1</th>\n",
       "      <td>2018-01-01</td>\n",
       "      <td>2</td>\n",
       "      <td>강원도</td>\n",
       "      <td>0.00</td>\n",
       "    </tr>\n",
       "  </tbody>\n",
       "</table>\n",
       "</div>"
      ],
      "text/plain": [
       "         거래일자  거래시간   지역   발전량 \n",
       "0  2018-01-01     1  강원도  13.68\n",
       "1  2018-01-01     2  강원도   0.00"
      ]
     },
     "execution_count": 4,
     "metadata": {},
     "output_type": "execute_result"
    }
   ],
   "source": [
    "df_power.head(2)"
   ]
  },
  {
   "cell_type": "code",
   "execution_count": 5,
   "metadata": {},
   "outputs": [],
   "source": [
    "df_power.drop(columns = ['Unnamed: 0'], inplace =True)"
   ]
  },
  {
   "cell_type": "code",
   "execution_count": 6,
   "metadata": {},
   "outputs": [],
   "source": [
    "df_power['datetime'] = pd.to_datetime(df_power['datetime'])\n",
    "df_power['year'] = df_power['datetime'].dt.year\n",
    "df_power['month'] = df_power['datetime'].dt.month\n",
    "df_power['day'] = df_power['datetime'].dt.day"
   ]
  },
  {
   "cell_type": "code",
   "execution_count": 10,
   "metadata": {},
   "outputs": [
    {
     "data": {
      "text/html": [
       "<div>\n",
       "<style scoped>\n",
       "    .dataframe tbody tr th:only-of-type {\n",
       "        vertical-align: middle;\n",
       "    }\n",
       "\n",
       "    .dataframe tbody tr th {\n",
       "        vertical-align: top;\n",
       "    }\n",
       "\n",
       "    .dataframe thead th {\n",
       "        text-align: right;\n",
       "    }\n",
       "</style>\n",
       "<table border=\"1\" class=\"dataframe\">\n",
       "  <thead>\n",
       "    <tr style=\"text-align: right;\">\n",
       "      <th></th>\n",
       "      <th>거래일자</th>\n",
       "      <th>지역</th>\n",
       "      <th>발전량</th>\n",
       "    </tr>\n",
       "  </thead>\n",
       "  <tbody>\n",
       "    <tr>\n",
       "      <th>0</th>\n",
       "      <td>2018-01-01</td>\n",
       "      <td>강원도</td>\n",
       "      <td>20866.921500</td>\n",
       "    </tr>\n",
       "    <tr>\n",
       "      <th>1</th>\n",
       "      <td>2018-01-01</td>\n",
       "      <td>경기도</td>\n",
       "      <td>11300.095042</td>\n",
       "    </tr>\n",
       "    <tr>\n",
       "      <th>2</th>\n",
       "      <td>2018-01-01</td>\n",
       "      <td>경상남도</td>\n",
       "      <td>25083.820833</td>\n",
       "    </tr>\n",
       "    <tr>\n",
       "      <th>3</th>\n",
       "      <td>2018-01-01</td>\n",
       "      <td>경상북도</td>\n",
       "      <td>39324.642625</td>\n",
       "    </tr>\n",
       "    <tr>\n",
       "      <th>4</th>\n",
       "      <td>2018-01-01</td>\n",
       "      <td>광주시</td>\n",
       "      <td>4446.730417</td>\n",
       "    </tr>\n",
       "    <tr>\n",
       "      <th>...</th>\n",
       "      <td>...</td>\n",
       "      <td>...</td>\n",
       "      <td>...</td>\n",
       "    </tr>\n",
       "    <tr>\n",
       "      <th>24832</th>\n",
       "      <td>2021-12-31</td>\n",
       "      <td>전라남도</td>\n",
       "      <td>154515.102833</td>\n",
       "    </tr>\n",
       "    <tr>\n",
       "      <th>24833</th>\n",
       "      <td>2021-12-31</td>\n",
       "      <td>전라북도</td>\n",
       "      <td>50341.417042</td>\n",
       "    </tr>\n",
       "    <tr>\n",
       "      <th>24834</th>\n",
       "      <td>2021-12-31</td>\n",
       "      <td>제주도</td>\n",
       "      <td>25896.986250</td>\n",
       "    </tr>\n",
       "    <tr>\n",
       "      <th>24835</th>\n",
       "      <td>2021-12-31</td>\n",
       "      <td>충청남도</td>\n",
       "      <td>72526.040000</td>\n",
       "    </tr>\n",
       "    <tr>\n",
       "      <th>24836</th>\n",
       "      <td>2021-12-31</td>\n",
       "      <td>충청북도</td>\n",
       "      <td>34862.779208</td>\n",
       "    </tr>\n",
       "  </tbody>\n",
       "</table>\n",
       "<p>24837 rows × 3 columns</p>\n",
       "</div>"
      ],
      "text/plain": [
       "             거래일자    지역           발전량 \n",
       "0      2018-01-01   강원도   20866.921500\n",
       "1      2018-01-01   경기도   11300.095042\n",
       "2      2018-01-01  경상남도   25083.820833\n",
       "3      2018-01-01  경상북도   39324.642625\n",
       "4      2018-01-01   광주시    4446.730417\n",
       "...           ...   ...            ...\n",
       "24832  2021-12-31  전라남도  154515.102833\n",
       "24833  2021-12-31  전라북도   50341.417042\n",
       "24834  2021-12-31   제주도   25896.986250\n",
       "24835  2021-12-31  충청남도   72526.040000\n",
       "24836  2021-12-31  충청북도   34862.779208\n",
       "\n",
       "[24837 rows x 3 columns]"
      ]
     },
     "execution_count": 10,
     "metadata": {},
     "output_type": "execute_result"
    }
   ],
   "source": [
    "df_2 =df_power.groupby(['거래일자','지역'], as_index=False)['발전량 '].mean()\n",
    "df_2.to_csv('power_production_mean_day_data.csv', encoding='cp949')\n",
    "df_2"
   ]
  },
  {
   "attachments": {},
   "cell_type": "markdown",
   "metadata": {},
   "source": [
    "정전 데이터 정제 "
   ]
  },
  {
   "cell_type": "code",
   "execution_count": 5,
   "metadata": {},
   "outputs": [],
   "source": [
    "df_power = pd.read_csv('processing_data/blackout.csv', encoding= 'cp949')\n",
    "df_power.fillna(value = 0, inplace=True)"
   ]
  },
  {
   "cell_type": "code",
   "execution_count": 6,
   "metadata": {},
   "outputs": [
    {
     "data": {
      "text/plain": [
       "Index(['Unnamed: 0', '정전피해_지역', '피해_가구수', '시작시간', '종료시간'], dtype='object')"
      ]
     },
     "execution_count": 6,
     "metadata": {},
     "output_type": "execute_result"
    }
   ],
   "source": [
    "df_power.columns"
   ]
  },
  {
   "cell_type": "code",
   "execution_count": 7,
   "metadata": {},
   "outputs": [],
   "source": [
    "df_power.drop(columns = ['Unnamed: 0'], inplace =True)"
   ]
  },
  {
   "cell_type": "code",
   "execution_count": 8,
   "metadata": {},
   "outputs": [],
   "source": [
    "df_power['시작시간'] = pd.to_datetime(df_power['시작시간'])\n",
    "df_power['year'] = df_power['시작시간'].dt.year\n",
    "df_power['month'] = df_power['시작시간'].dt.month\n",
    "df_power['day'] = df_power['시작시간'].dt.day"
   ]
  },
  {
   "cell_type": "code",
   "execution_count": 9,
   "metadata": {},
   "outputs": [
    {
     "data": {
      "text/html": [
       "<div>\n",
       "<style scoped>\n",
       "    .dataframe tbody tr th:only-of-type {\n",
       "        vertical-align: middle;\n",
       "    }\n",
       "\n",
       "    .dataframe tbody tr th {\n",
       "        vertical-align: top;\n",
       "    }\n",
       "\n",
       "    .dataframe thead th {\n",
       "        text-align: right;\n",
       "    }\n",
       "</style>\n",
       "<table border=\"1\" class=\"dataframe\">\n",
       "  <thead>\n",
       "    <tr style=\"text-align: right;\">\n",
       "      <th></th>\n",
       "      <th>year</th>\n",
       "      <th>month</th>\n",
       "      <th>day</th>\n",
       "      <th>피해_가구수</th>\n",
       "    </tr>\n",
       "  </thead>\n",
       "  <tbody>\n",
       "    <tr>\n",
       "      <th>0</th>\n",
       "      <td>2012</td>\n",
       "      <td>6</td>\n",
       "      <td>14</td>\n",
       "      <td>1785.333333</td>\n",
       "    </tr>\n",
       "    <tr>\n",
       "      <th>1</th>\n",
       "      <td>2012</td>\n",
       "      <td>6</td>\n",
       "      <td>28</td>\n",
       "      <td>1250.000000</td>\n",
       "    </tr>\n",
       "    <tr>\n",
       "      <th>2</th>\n",
       "      <td>2012</td>\n",
       "      <td>6</td>\n",
       "      <td>29</td>\n",
       "      <td>22.000000</td>\n",
       "    </tr>\n",
       "    <tr>\n",
       "      <th>3</th>\n",
       "      <td>2012</td>\n",
       "      <td>6</td>\n",
       "      <td>30</td>\n",
       "      <td>103.333333</td>\n",
       "    </tr>\n",
       "    <tr>\n",
       "      <th>4</th>\n",
       "      <td>2012</td>\n",
       "      <td>7</td>\n",
       "      <td>18</td>\n",
       "      <td>2277.090909</td>\n",
       "    </tr>\n",
       "    <tr>\n",
       "      <th>...</th>\n",
       "      <td>...</td>\n",
       "      <td>...</td>\n",
       "      <td>...</td>\n",
       "      <td>...</td>\n",
       "    </tr>\n",
       "    <tr>\n",
       "      <th>145</th>\n",
       "      <td>2022</td>\n",
       "      <td>1</td>\n",
       "      <td>21</td>\n",
       "      <td>2000.000000</td>\n",
       "    </tr>\n",
       "    <tr>\n",
       "      <th>146</th>\n",
       "      <td>2022</td>\n",
       "      <td>2</td>\n",
       "      <td>4</td>\n",
       "      <td>2000.000000</td>\n",
       "    </tr>\n",
       "    <tr>\n",
       "      <th>147</th>\n",
       "      <td>2022</td>\n",
       "      <td>2</td>\n",
       "      <td>8</td>\n",
       "      <td>2000.000000</td>\n",
       "    </tr>\n",
       "    <tr>\n",
       "      <th>148</th>\n",
       "      <td>2022</td>\n",
       "      <td>3</td>\n",
       "      <td>4</td>\n",
       "      <td>12.000000</td>\n",
       "    </tr>\n",
       "    <tr>\n",
       "      <th>149</th>\n",
       "      <td>2022</td>\n",
       "      <td>3</td>\n",
       "      <td>5</td>\n",
       "      <td>1.000000</td>\n",
       "    </tr>\n",
       "  </tbody>\n",
       "</table>\n",
       "<p>150 rows × 4 columns</p>\n",
       "</div>"
      ],
      "text/plain": [
       "     year  month  day       피해_가구수\n",
       "0    2012      6   14  1785.333333\n",
       "1    2012      6   28  1250.000000\n",
       "2    2012      6   29    22.000000\n",
       "3    2012      6   30   103.333333\n",
       "4    2012      7   18  2277.090909\n",
       "..    ...    ...  ...          ...\n",
       "145  2022      1   21  2000.000000\n",
       "146  2022      2    4  2000.000000\n",
       "147  2022      2    8  2000.000000\n",
       "148  2022      3    4    12.000000\n",
       "149  2022      3    5     1.000000\n",
       "\n",
       "[150 rows x 4 columns]"
      ]
     },
     "execution_count": 9,
     "metadata": {},
     "output_type": "execute_result"
    }
   ],
   "source": [
    "df_2 =df_power.groupby(['year','month' , 'day'], as_index=False)['피해_가구수'].mean()\n",
    "df_2.to_csv('balckout_mean_day_data.csv', encoding='cp949')\n",
    "df_2"
   ]
  },
  {
   "cell_type": "code",
   "execution_count": 21,
   "metadata": {},
   "outputs": [],
   "source": [
    "power_demand_mean_month_2012 = df_2[df_2['year'] == 2012]\n",
    "power_demand_mean_month_2013 = df_2[df_2['year'] == 2013]\n",
    "power_demand_mean_month_2014 = df_2[df_2['year'] == 2014]\n",
    "power_demand_mean_month_2015 = df_2[df_2['year'] == 2015]\n",
    "power_demand_mean_month_2016 = df_2[df_2['year'] == 2016]\n",
    "power_demand_mean_month_2017 = df_2[df_2['year'] == 2017]\n",
    "power_demand_mean_month_2018 = df_2[df_2['year'] == 2018]\n",
    "power_demand_mean_month_2019 = df_2[df_2['year'] == 2019]\n",
    "power_demand_mean_month_2020 = df_2[df_2['year'] == 2020]\n",
    "power_demand_mean_month_2021 = df_2[df_2['year'] == 2021]\n",
    "power_demand_mean_month_2022 = df_2[df_2['year'] == 2022]"
   ]
  },
  {
   "cell_type": "code",
   "execution_count": 22,
   "metadata": {},
   "outputs": [],
   "source": [
    "power_demand_mean_month_2012.to_csv('power_demand_mean_month_2012.csv', encoding='cp949')\n",
    "power_demand_mean_month_2013.to_csv('power_demand_mean_month_2013.csv', encoding='cp949')\n",
    "power_demand_mean_month_2014.to_csv('power_demand_mean_month_2014.csv', encoding='cp949')\n",
    "power_demand_mean_month_2015.to_csv('power_demand_mean_month_2015.csv', encoding='cp949')\n",
    "power_demand_mean_month_2016.to_csv('power_demand_mean_month_2016.csv', encoding='cp949')\n",
    "power_demand_mean_month_2017.to_csv('power_demand_mean_month_2017.csv', encoding='cp949')\n",
    "power_demand_mean_month_2018.to_csv('power_demand_mean_month_2018.csv', encoding='cp949')\n",
    "power_demand_mean_month_2019.to_csv('power_demand_mean_month_2019.csv', encoding='cp949')\n",
    "power_demand_mean_month_2020.to_csv('power_demand_mean_month_2020.csv', encoding='cp949')\n",
    "power_demand_mean_month_2021.to_csv('power_demand_mean_month_2021.csv', encoding='cp949')\n",
    "power_demand_mean_month_2022.to_csv('power_demand_mean_month_2022.csv', encoding='cp949')"
   ]
  },
  {
   "cell_type": "code",
   "execution_count": null,
   "metadata": {},
   "outputs": [],
   "source": []
  }
 ],
 "metadata": {
  "kernelspec": {
   "display_name": "machine_learning",
   "language": "python",
   "name": "python3"
  },
  "language_info": {
   "codemirror_mode": {
    "name": "ipython",
    "version": 3
   },
   "file_extension": ".py",
   "mimetype": "text/x-python",
   "name": "python",
   "nbconvert_exporter": "python",
   "pygments_lexer": "ipython3",
   "version": "3.8.16"
  },
  "orig_nbformat": 4
 },
 "nbformat": 4,
 "nbformat_minor": 2
}
