{
 "cells": [
  {
   "cell_type": "code",
   "execution_count": 1,
   "metadata": {},
   "outputs": [
    {
     "data": {
      "text/plain": [
       "False"
      ]
     },
     "execution_count": 1,
     "metadata": {},
     "output_type": "execute_result"
    }
   ],
   "source": [
    "# 필요 라이브러리 로드\n",
    "from matplotlib import font_manager, rc\n",
    "import matplotlib\n",
    "import matplotlib.pyplot as plt\n",
    "import seaborn as sns\n",
    "import numpy as np\n",
    "import sqlite3,os\n",
    "import pandas as pd\n",
    "import platform\n",
    "from prophet import Prophet\n",
    "from sklearn.model_selection import train_test_split\n",
    "import openpyxl\n",
    "from sklearn.metrics import mean_absolute_error, mean_absolute_percentage_error\n",
    "if platform.system() == 'Windows':\n",
    "# 윈도우인 경우 맑은 고딕 폰트 이용\n",
    "    font_name = font_manager.FontProperties(fname=\"c:/Windows/Fonts/malgun.ttf\"\n",
    "                                           ).get_name()\n",
    "    rc('font', family=font_name)\n",
    "else:    \n",
    "# Mac 인 경우\n",
    "    rc('font', family='AppleGothic')\n",
    "\n",
    "#그래프에서 마이너스 기호가 표시되게 하는 설정입니다.\n",
    "plt.rcParams['axes.unicode_minus'] == False"
   ]
  },
  {
   "cell_type": "code",
   "execution_count": 2,
   "metadata": {},
   "outputs": [
    {
     "data": {
      "text/html": [
       "<div>\n",
       "<style scoped>\n",
       "    .dataframe tbody tr th:only-of-type {\n",
       "        vertical-align: middle;\n",
       "    }\n",
       "\n",
       "    .dataframe tbody tr th {\n",
       "        vertical-align: top;\n",
       "    }\n",
       "\n",
       "    .dataframe thead th {\n",
       "        text-align: right;\n",
       "    }\n",
       "</style>\n",
       "<table border=\"1\" class=\"dataframe\">\n",
       "  <thead>\n",
       "    <tr style=\"text-align: right;\">\n",
       "      <th></th>\n",
       "      <th>월별(1)</th>\n",
       "      <th>용도별(1)</th>\n",
       "      <th>용도별(2)</th>\n",
       "      <th>항목</th>\n",
       "      <th>2013</th>\n",
       "      <th>2014</th>\n",
       "      <th>2015</th>\n",
       "      <th>2016</th>\n",
       "      <th>2017</th>\n",
       "      <th>2018</th>\n",
       "      <th>2019</th>\n",
       "      <th>2020</th>\n",
       "    </tr>\n",
       "  </thead>\n",
       "  <tbody>\n",
       "    <tr>\n",
       "      <th>0</th>\n",
       "      <td>합계</td>\n",
       "      <td>합계</td>\n",
       "      <td>소계</td>\n",
       "      <td>전력사용량 (MWh)</td>\n",
       "      <td>45466410</td>\n",
       "      <td>47294961</td>\n",
       "      <td>47286062</td>\n",
       "      <td>48453931</td>\n",
       "      <td>50180202</td>\n",
       "      <td>52012705</td>\n",
       "      <td>52644854</td>\n",
       "      <td>50422731</td>\n",
       "    </tr>\n",
       "    <tr>\n",
       "      <th>1</th>\n",
       "      <td>합계</td>\n",
       "      <td>가정용</td>\n",
       "      <td>소계</td>\n",
       "      <td>전력사용량 (MWh)</td>\n",
       "      <td>2448504</td>\n",
       "      <td>2423744</td>\n",
       "      <td>2509792</td>\n",
       "      <td>2629227</td>\n",
       "      <td>2691822</td>\n",
       "      <td>2897959</td>\n",
       "      <td>2887132</td>\n",
       "      <td>3038548</td>\n",
       "    </tr>\n",
       "    <tr>\n",
       "      <th>2</th>\n",
       "      <td>합계</td>\n",
       "      <td>공공용</td>\n",
       "      <td>소계</td>\n",
       "      <td>전력사용량 (MWh)</td>\n",
       "      <td>1026522</td>\n",
       "      <td>992261</td>\n",
       "      <td>1007144</td>\n",
       "      <td>1065147</td>\n",
       "      <td>1089612</td>\n",
       "      <td>1135633</td>\n",
       "      <td>1121458</td>\n",
       "      <td>1061722</td>\n",
       "    </tr>\n",
       "    <tr>\n",
       "      <th>3</th>\n",
       "      <td>합계</td>\n",
       "      <td>서비스업</td>\n",
       "      <td>소계</td>\n",
       "      <td>전력사용량 (MWh)</td>\n",
       "      <td>6399018</td>\n",
       "      <td>6258873</td>\n",
       "      <td>6753172</td>\n",
       "      <td>7167563</td>\n",
       "      <td>7164438</td>\n",
       "      <td>7388134</td>\n",
       "      <td>7375368</td>\n",
       "      <td>7423314</td>\n",
       "    </tr>\n",
       "    <tr>\n",
       "      <th>4</th>\n",
       "      <td>합계</td>\n",
       "      <td>산업용</td>\n",
       "      <td>소계</td>\n",
       "      <td>전력사용량 (MWh)</td>\n",
       "      <td>35592367</td>\n",
       "      <td>37620083</td>\n",
       "      <td>37015954</td>\n",
       "      <td>37591995</td>\n",
       "      <td>39234330</td>\n",
       "      <td>40590981</td>\n",
       "      <td>41260896</td>\n",
       "      <td>38899147</td>\n",
       "    </tr>\n",
       "    <tr>\n",
       "      <th>5</th>\n",
       "      <td>합계</td>\n",
       "      <td>산업용</td>\n",
       "      <td>농림수산업</td>\n",
       "      <td>전력사용량 (MWh)</td>\n",
       "      <td>1602374</td>\n",
       "      <td>1628947</td>\n",
       "      <td>1767004</td>\n",
       "      <td>1875034</td>\n",
       "      <td>1928065</td>\n",
       "      <td>2112522</td>\n",
       "      <td>2136303</td>\n",
       "      <td>2043578</td>\n",
       "    </tr>\n",
       "    <tr>\n",
       "      <th>6</th>\n",
       "      <td>합계</td>\n",
       "      <td>산업용</td>\n",
       "      <td>광업</td>\n",
       "      <td>전력사용량 (MWh)</td>\n",
       "      <td>255449</td>\n",
       "      <td>274278</td>\n",
       "      <td>280838</td>\n",
       "      <td>292889</td>\n",
       "      <td>248312</td>\n",
       "      <td>168165</td>\n",
       "      <td>172239</td>\n",
       "      <td>198914</td>\n",
       "    </tr>\n",
       "    <tr>\n",
       "      <th>7</th>\n",
       "      <td>합계</td>\n",
       "      <td>산업용</td>\n",
       "      <td>제조업</td>\n",
       "      <td>전력사용량 (MWh)</td>\n",
       "      <td>33734544</td>\n",
       "      <td>35716859</td>\n",
       "      <td>34968112</td>\n",
       "      <td>35424072</td>\n",
       "      <td>37057953</td>\n",
       "      <td>38310294</td>\n",
       "      <td>38952353</td>\n",
       "      <td>36656655</td>\n",
       "    </tr>\n",
       "  </tbody>\n",
       "</table>\n",
       "</div>"
      ],
      "text/plain": [
       "  월별(1) 용도별(1) 용도별(2)           항목      2013      2014      2015      2016  \\\n",
       "0    합계     합계     소계  전력사용량 (MWh)  45466410  47294961  47286062  48453931   \n",
       "1    합계    가정용     소계  전력사용량 (MWh)   2448504   2423744   2509792   2629227   \n",
       "2    합계    공공용     소계  전력사용량 (MWh)   1026522    992261   1007144   1065147   \n",
       "3    합계   서비스업     소계  전력사용량 (MWh)   6399018   6258873   6753172   7167563   \n",
       "4    합계    산업용     소계  전력사용량 (MWh)  35592367  37620083  37015954  37591995   \n",
       "5    합계    산업용  농림수산업  전력사용량 (MWh)   1602374   1628947   1767004   1875034   \n",
       "6    합계    산업용     광업  전력사용량 (MWh)    255449    274278    280838    292889   \n",
       "7    합계    산업용    제조업  전력사용량 (MWh)  33734544  35716859  34968112  35424072   \n",
       "\n",
       "       2017      2018      2019      2020  \n",
       "0  50180202  52012705  52644854  50422731  \n",
       "1   2691822   2897959   2887132   3038548  \n",
       "2   1089612   1135633   1121458   1061722  \n",
       "3   7164438   7388134   7375368   7423314  \n",
       "4  39234330  40590981  41260896  38899147  \n",
       "5   1928065   2112522   2136303   2043578  \n",
       "6    248312    168165    172239    198914  \n",
       "7  37057953  38310294  38952353  36656655  "
      ]
     },
     "execution_count": 2,
     "metadata": {},
     "output_type": "execute_result"
    }
   ],
   "source": [
    "df_power = pd.read_csv('../data/용도별_전력사용량_20230331111046.csv', encoding= 'cp949')\n",
    "df_power.fillna(value = 0)"
   ]
  },
  {
   "cell_type": "code",
   "execution_count": 3,
   "metadata": {},
   "outputs": [],
   "source": [
    "df_power.drop(columns='용도별(2)', inplace=True)"
   ]
  },
  {
   "cell_type": "code",
   "execution_count": 4,
   "metadata": {},
   "outputs": [],
   "source": [
    "df_power.drop(columns='월별(1)', inplace=True)"
   ]
  },
  {
   "cell_type": "code",
   "execution_count": 5,
   "metadata": {},
   "outputs": [],
   "source": [
    "df_power.drop(columns='항목', inplace=True)"
   ]
  },
  {
   "cell_type": "code",
   "execution_count": 6,
   "metadata": {},
   "outputs": [
    {
     "name": "stdout",
     "output_type": "stream",
     "text": [
      "<class 'pandas.core.frame.DataFrame'>\n",
      "Index: 9 entries, 용도별(1) to 2020\n",
      "Data columns (total 8 columns):\n",
      " #   Column  Non-Null Count  Dtype \n",
      "---  ------  --------------  ----- \n",
      " 0   0       9 non-null      object\n",
      " 1   1       9 non-null      object\n",
      " 2   2       9 non-null      object\n",
      " 3   3       9 non-null      object\n",
      " 4   4       9 non-null      object\n",
      " 5   5       9 non-null      object\n",
      " 6   6       9 non-null      object\n",
      " 7   7       9 non-null      object\n",
      "dtypes: object(8)\n",
      "memory usage: 648.0+ bytes\n"
     ]
    }
   ],
   "source": [
    "df_power.T.info()"
   ]
  },
  {
   "cell_type": "code",
   "execution_count": 7,
   "metadata": {},
   "outputs": [
    {
     "data": {
      "text/plain": [
       "용도별(1)          합계\n",
       "2013      45466410\n",
       "2014      47294961\n",
       "2015      47286062\n",
       "2016      48453931\n",
       "2017      50180202\n",
       "2018      52012705\n",
       "2019      52644854\n",
       "2020      50422731\n",
       "Name: 0, dtype: object"
      ]
     },
     "execution_count": 7,
     "metadata": {},
     "output_type": "execute_result"
    }
   ],
   "source": [
    "df_power.T[0]"
   ]
  },
  {
   "cell_type": "code",
   "execution_count": 9,
   "metadata": {},
   "outputs": [
    {
     "data": {
      "text/html": [
       "<div>\n",
       "<style scoped>\n",
       "    .dataframe tbody tr th:only-of-type {\n",
       "        vertical-align: middle;\n",
       "    }\n",
       "\n",
       "    .dataframe tbody tr th {\n",
       "        vertical-align: top;\n",
       "    }\n",
       "\n",
       "    .dataframe thead th {\n",
       "        text-align: right;\n",
       "    }\n",
       "</style>\n",
       "<table border=\"1\" class=\"dataframe\">\n",
       "  <thead>\n",
       "    <tr style=\"text-align: right;\">\n",
       "      <th></th>\n",
       "      <th>용도별(1)</th>\n",
       "      <th>2013</th>\n",
       "      <th>2014</th>\n",
       "      <th>2015</th>\n",
       "      <th>2016</th>\n",
       "      <th>2017</th>\n",
       "      <th>2018</th>\n",
       "      <th>2019</th>\n",
       "      <th>2020</th>\n",
       "    </tr>\n",
       "  </thead>\n",
       "  <tbody>\n",
       "    <tr>\n",
       "      <th>0</th>\n",
       "      <td>합계</td>\n",
       "      <td>45466410</td>\n",
       "      <td>47294961</td>\n",
       "      <td>47286062</td>\n",
       "      <td>48453931</td>\n",
       "      <td>50180202</td>\n",
       "      <td>52012705</td>\n",
       "      <td>52644854</td>\n",
       "      <td>50422731</td>\n",
       "    </tr>\n",
       "    <tr>\n",
       "      <th>1</th>\n",
       "      <td>가정용</td>\n",
       "      <td>2448504</td>\n",
       "      <td>2423744</td>\n",
       "      <td>2509792</td>\n",
       "      <td>2629227</td>\n",
       "      <td>2691822</td>\n",
       "      <td>2897959</td>\n",
       "      <td>2887132</td>\n",
       "      <td>3038548</td>\n",
       "    </tr>\n",
       "    <tr>\n",
       "      <th>2</th>\n",
       "      <td>공공용</td>\n",
       "      <td>1026522</td>\n",
       "      <td>992261</td>\n",
       "      <td>1007144</td>\n",
       "      <td>1065147</td>\n",
       "      <td>1089612</td>\n",
       "      <td>1135633</td>\n",
       "      <td>1121458</td>\n",
       "      <td>1061722</td>\n",
       "    </tr>\n",
       "    <tr>\n",
       "      <th>3</th>\n",
       "      <td>서비스업</td>\n",
       "      <td>6399018</td>\n",
       "      <td>6258873</td>\n",
       "      <td>6753172</td>\n",
       "      <td>7167563</td>\n",
       "      <td>7164438</td>\n",
       "      <td>7388134</td>\n",
       "      <td>7375368</td>\n",
       "      <td>7423314</td>\n",
       "    </tr>\n",
       "    <tr>\n",
       "      <th>4</th>\n",
       "      <td>산업용</td>\n",
       "      <td>35592367</td>\n",
       "      <td>37620083</td>\n",
       "      <td>37015954</td>\n",
       "      <td>37591995</td>\n",
       "      <td>39234330</td>\n",
       "      <td>40590981</td>\n",
       "      <td>41260896</td>\n",
       "      <td>38899147</td>\n",
       "    </tr>\n",
       "    <tr>\n",
       "      <th>5</th>\n",
       "      <td>산업용</td>\n",
       "      <td>1602374</td>\n",
       "      <td>1628947</td>\n",
       "      <td>1767004</td>\n",
       "      <td>1875034</td>\n",
       "      <td>1928065</td>\n",
       "      <td>2112522</td>\n",
       "      <td>2136303</td>\n",
       "      <td>2043578</td>\n",
       "    </tr>\n",
       "    <tr>\n",
       "      <th>6</th>\n",
       "      <td>산업용</td>\n",
       "      <td>255449</td>\n",
       "      <td>274278</td>\n",
       "      <td>280838</td>\n",
       "      <td>292889</td>\n",
       "      <td>248312</td>\n",
       "      <td>168165</td>\n",
       "      <td>172239</td>\n",
       "      <td>198914</td>\n",
       "    </tr>\n",
       "    <tr>\n",
       "      <th>7</th>\n",
       "      <td>산업용</td>\n",
       "      <td>33734544</td>\n",
       "      <td>35716859</td>\n",
       "      <td>34968112</td>\n",
       "      <td>35424072</td>\n",
       "      <td>37057953</td>\n",
       "      <td>38310294</td>\n",
       "      <td>38952353</td>\n",
       "      <td>36656655</td>\n",
       "    </tr>\n",
       "  </tbody>\n",
       "</table>\n",
       "</div>"
      ],
      "text/plain": [
       "  용도별(1)      2013      2014      2015      2016      2017      2018  \\\n",
       "0     합계  45466410  47294961  47286062  48453931  50180202  52012705   \n",
       "1    가정용   2448504   2423744   2509792   2629227   2691822   2897959   \n",
       "2    공공용   1026522    992261   1007144   1065147   1089612   1135633   \n",
       "3   서비스업   6399018   6258873   6753172   7167563   7164438   7388134   \n",
       "4    산업용  35592367  37620083  37015954  37591995  39234330  40590981   \n",
       "5    산업용   1602374   1628947   1767004   1875034   1928065   2112522   \n",
       "6    산업용    255449    274278    280838    292889    248312    168165   \n",
       "7    산업용  33734544  35716859  34968112  35424072  37057953  38310294   \n",
       "\n",
       "       2019      2020  \n",
       "0  52644854  50422731  \n",
       "1   2887132   3038548  \n",
       "2   1121458   1061722  \n",
       "3   7375368   7423314  \n",
       "4  41260896  38899147  \n",
       "5   2136303   2043578  \n",
       "6    172239    198914  \n",
       "7  38952353  36656655  "
      ]
     },
     "execution_count": 9,
     "metadata": {},
     "output_type": "execute_result"
    }
   ],
   "source": [
    "df_power"
   ]
  },
  {
   "cell_type": "code",
   "execution_count": 10,
   "metadata": {},
   "outputs": [],
   "source": [
    "dt2 = df_power"
   ]
  },
  {
   "cell_type": "code",
   "execution_count": null,
   "metadata": {},
   "outputs": [],
   "source": [
    "2448504\n",
    "71184734"
   ]
  },
  {
   "cell_type": "code",
   "execution_count": 11,
   "metadata": {},
   "outputs": [],
   "source": [
    "dt2 = dt2.set_index('용도별(1)')"
   ]
  },
  {
   "cell_type": "code",
   "execution_count": 12,
   "metadata": {},
   "outputs": [],
   "source": [
    "dt2.iloc[4] = dt2.iloc[4]+ dt2.iloc[5]+ dt2.iloc[6]+ dt2.iloc[7]"
   ]
  },
  {
   "cell_type": "code",
   "execution_count": 13,
   "metadata": {},
   "outputs": [
    {
     "data": {
      "text/plain": [
       "2013    71184734\n",
       "2014    75240167\n",
       "2015    74031908\n",
       "2016    75183990\n",
       "2017    78468660\n",
       "2018    81181962\n",
       "2019    82521791\n",
       "2020    77798294\n",
       "Name: 산업용, dtype: int64"
      ]
     },
     "execution_count": 13,
     "metadata": {},
     "output_type": "execute_result"
    }
   ],
   "source": [
    "dt2.iloc[4]"
   ]
  },
  {
   "cell_type": "code",
   "execution_count": null,
   "metadata": {},
   "outputs": [],
   "source": [
    "dt2 = dt2.iloc[1:5]"
   ]
  },
  {
   "cell_type": "code",
   "execution_count": 45,
   "metadata": {},
   "outputs": [
    {
     "name": "stderr",
     "output_type": "stream",
     "text": [
      "No artists with labels found to put in legend.  Note that artists whose label start with an underscore are ignored when legend() is called with no argument.\n"
     ]
    },
    {
     "data": {
      "image/png": "[encoded data removed]",
      "text/plain": [
       "<Figure size 1000x300 with 2 Axes>"
      ]
     },
     "metadata": {},
     "output_type": "display_data"
    }
   ],
   "source": [
    "# 하나의 ax 만을 가지는 하나의 figure 생성\n",
    "fig, ax1 = plt.subplots(figsize=(10,3))\n",
    "# ax1과 x축을 공유하는 새로운 Axes 객체 생성\n",
    "ax2 = ax1.twinx()\n",
    "\n",
    "# blackout_sum의 year 컬럼 중 고유값을 for문을 통해 반복해서 출력\n",
    "\n",
    "ax1.plot(dt2.iloc[0], color ='r')\n",
    "plt.legend('가정용')\n",
    "ax1.set_xlabel('월')\n",
    "ax1.set_ylabel('전력')\n",
    "# ax1.set_ylim([10000000, 100000000])\n",
    "\n",
    "ax2.plot(dt2.iloc[4], color ='g')\n",
    "# ax2.set_ylim([10000000, 100000000])\n",
    "ax2.legend()\n",
    "\n",
    "# 범례\n",
    "# plt.legend(bbox_to_anchor=(1, 0.6))\n",
    "\n",
    "plt.show()"
   ]
  },
  {
   "cell_type": "code",
   "execution_count": null,
   "metadata": {},
   "outputs": [
    {
     "name": "stderr",
     "output_type": "stream",
     "text": [
      "No artists with labels found to put in legend.  Note that artists whose label start with an underscore are ignored when legend() is called with no argument.\n",
      "No artists with labels found to put in legend.  Note that artists whose label start with an underscore are ignored when legend() is called with no argument.\n",
      "No artists with labels found to put in legend.  Note that artists whose label start with an underscore are ignored when legend() is called with no argument.\n",
      "No artists with labels found to put in legend.  Note that artists whose label start with an underscore are ignored when legend() is called with no argument.\n"
     ]
    },
    {
     "data": {
      "image/png": "[encoded data removed]",
      "text/plain": [
       "<Figure size 640x480 with 1 Axes>"
      ]
     },
     "metadata": {},
     "output_type": "display_data"
    }
   ],
   "source": [
    "for i in range(0,3):\n",
    "    plt.plot(dt2.iloc[i])\n",
    "    plt.legend()\n",
    "\n",
    "plt.plot(dt2.iloc[4])\n",
    "plt.show()"
   ]
  },
  {
   "cell_type": "code",
   "execution_count": null,
   "metadata": {},
   "outputs": [
    {
     "name": "stderr",
     "output_type": "stream",
     "text": [
      "No artists with labels found to put in legend.  Note that artists whose label start with an underscore are ignored when legend() is called with no argument.\n"
     ]
    },
    {
     "data": {
      "image/png": "[encoded data removed]",
      "text/plain": [
       "<Figure size 640x480 with 1 Axes>"
      ]
     },
     "metadata": {},
     "output_type": "display_data"
    }
   ],
   "source": [
    "plt.plot(dt2.iloc[1])\n",
    "plt.plot(dt2.iloc[2])\n",
    "plt.plot(dt2.iloc[3])\n",
    "plt.plot(dt2.iloc[4])\n",
    "plt.plot(dt2.iloc[5])\n",
    "plt.plot(dt2.iloc[6])\n",
    "plt.legend()\n",
    "plt.show()"
   ]
  },
  {
   "cell_type": "code",
   "execution_count": null,
   "metadata": {},
   "outputs": [],
   "source": []
  }
 ],
 "metadata": {
  "kernelspec": {
   "display_name": "machine_learning",
   "language": "python",
   "name": "python3"
  },
  "language_info": {
   "codemirror_mode": {
    "name": "ipython",
    "version": 3
   },
   "file_extension": ".py",
   "mimetype": "text/x-python",
   "name": "python",
   "nbconvert_exporter": "python",
   "pygments_lexer": "ipython3",
   "version": "3.9.16"
  },
  "orig_nbformat": 4
 },
 "nbformat": 4,
 "nbformat_minor": 2
}
